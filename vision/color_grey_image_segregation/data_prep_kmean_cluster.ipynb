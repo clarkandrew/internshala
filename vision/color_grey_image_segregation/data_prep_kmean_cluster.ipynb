{
 "cells": [
  {
   "cell_type": "code",
   "execution_count": 35,
   "metadata": {},
   "outputs": [],
   "source": [
    "from sklearn.cluster import KMeans\n",
    "import matplotlib.pyplot as plt\n",
    "import numpy as np\n",
    "import cv2\n",
    "from PIL import Image\n",
    "import glob\n",
    "import pandas as pd\n",
    "from collections import Counter\n",
    "from skimage.color import rgb2lab, deltaE_cie76\n",
    "from random import shuffle\n",
    "\n",
    "%matplotlib inline"
   ]
  },
  {
   "cell_type": "markdown",
   "metadata": {},
   "source": [
    "Training data is prepared from kaggle's image categorization challenge. The original dataset has name \"256_ObjectCategories\" on kaggle.\n",
    "Here data preparation is being carried out on 10,000 images because of local system's hardware limit. The data has been prepared into two categories to classify \"color\" and \"grey\" images. "
   ]
  },
  {
   "cell_type": "code",
   "execution_count": 60,
   "metadata": {},
   "outputs": [],
   "source": [
    "image_list = []\n",
    "i=0\n",
    "for filename in glob.glob('256_ObjectCategories/*/*.jpg'): # having jpg\n",
    "    dict1 = {}\n",
    "    if i < 5000:\n",
    "        img =cv2.imread(filename)\n",
    "        im =cv2.cvtColor(img, cv2.COLOR_BGR2GRAY)\n",
    "        \n",
    "        img2= np.zeros_like(img)\n",
    "        img2[:,:,0] = im\n",
    "        img2[:,:,1] = im\n",
    "        img2[:,:,2] = im\n",
    "        dict1[\"image\"] = img2\n",
    "        dict1[\"label\"] = 0\n",
    "        if i < 4000:\n",
    "            cv2.imwrite('training_data/gray/{}.jpg'.format(filename.split('\\\\')[2]),img2)\n",
    "        else:\n",
    "            cv2.imwrite('testing_data/gray/{}.jpg'.format(filename.split('\\\\')[2]),img2)        \n",
    "    else:\n",
    "        im=cv2.imread(filename)\n",
    "        dict1[\"image\"] = im\n",
    "        dict1[\"label\"] = 1\n",
    "        if i < 9000:\n",
    "            cv2.imwrite('training_data/color/{}.jpg'.format(filename.split('\\\\')[2]),im)\n",
    "        else:\n",
    "            cv2.imwrite('testing_data/color/{}.jpg'.format(filename.split('\\\\')[2]),im)   \n",
    "    image_list.append(dict1)\n",
    "    i+=1\n",
    "    if i==10000:\n",
    "        break"
   ]
  },
  {
   "cell_type": "markdown",
   "metadata": {},
   "source": [
    "Kmean_cluster is being used to identify if the colored image is correctly labeled as color or not, similarly for grey scale images."
   ]
  },
  {
   "cell_type": "code",
   "execution_count": 20,
   "metadata": {},
   "outputs": [],
   "source": [
    "def kmean_cluster(dict1):\n",
    "    image = dict1[\"image\"]\n",
    "    image = cv2.cvtColor(image, cv2.COLOR_BGR2RGB)\n",
    "#    plt.imshow(image).figure(figsize = (8, 6))\n",
    "\n",
    "    def RGB2HEX(color):\n",
    "        return \"#{:02x}{:02x}{:02x}\".format(int(color[0]), int(color[1]), int(color[2]))\n",
    "\n",
    "    modified_image = cv2.resize(image, (600, 400), interpolation = cv2.INTER_AREA)\n",
    "#    if dict1[\"label\"] == 1:\n",
    "    modified_image = modified_image.reshape(modified_image.shape[0]*modified_image.shape[1], 3)\n",
    "\n",
    "    clf = KMeans(n_clusters = 4)\n",
    "    labels = clf.fit_predict(modified_image)\n",
    "\n",
    "    counts = Counter(labels)\n",
    "\n",
    "    center_colors = clf.cluster_centers_\n",
    "# We get ordered colors by iterating through the keys\n",
    "    ordered_colors = [center_colors[i]/255 for i in counts.keys()]\n",
    "    hex_colors = [RGB2HEX(ordered_colors[i]*255) for i in counts.keys()]\n",
    "    rgb_colors = [ordered_colors[i]*255 for i in counts.keys()]\n",
    "    for i in rgb_colors:\n",
    "        if i[0]==i[1] and i[1]==i[2] and dict1[\"label\"] == 0:\n",
    "            continue\n",
    "        if i[0]!=i[1] or i[1]!=i[2] and dict1[\"label\"] == 1:\n",
    "            continue \n",
    "        if i[0]==i[1] and i[1]==i[2] and dict1[\"label\"] == 1:\n",
    "            print('error:  ',plt.imshow(image).figure(figsize = (8, 6)))\n",
    "            break\n",
    "        if i[0]!=i[1] or i[1]!=i[2] and dict1[\"label\"] == 0:\n",
    "            print('error:  ',plt.imshow(image).figure(figsize = (8, 6)))\n",
    "            break"
   ]
  },
  {
   "cell_type": "code",
   "execution_count": null,
   "metadata": {},
   "outputs": [],
   "source": [
    "\n",
    "for dict11 in image_list:\n",
    "    kmean_cluster(dict11)"
   ]
  }
 ],
 "metadata": {
  "kernelspec": {
   "display_name": "Python 3",
   "language": "python",
   "name": "python3"
  },
  "language_info": {
   "codemirror_mode": {
    "name": "ipython",
    "version": 3
   },
   "file_extension": ".py",
   "mimetype": "text/x-python",
   "name": "python",
   "nbconvert_exporter": "python",
   "pygments_lexer": "ipython3",
   "version": "3.7.3"
  },
  "stem_cell": {
   "cell_type": "raw",
   "metadata": {
    "pycharm": {
     "metadata": false
    }
   },
   "source": ""
  }
 },
 "nbformat": 4,
 "nbformat_minor": 1
}
